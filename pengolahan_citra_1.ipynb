{
  "nbformat": 4,
  "nbformat_minor": 0,
  "metadata": {
    "colab": {
      "provenance": [],
      "authorship_tag": "ABX9TyO5wirbREo3iHWPTbADwKG7",
      "include_colab_link": true
    },
    "kernelspec": {
      "name": "python3",
      "display_name": "Python 3"
    },
    "language_info": {
      "name": "python"
    }
  },
  "cells": [
    {
      "cell_type": "markdown",
      "metadata": {
        "id": "view-in-github",
        "colab_type": "text"
      },
      "source": [
        "<a href=\"https://colab.research.google.com/github/Dhan852/PengolahanCitra/blob/main/pengolahan_citra_1.ipynb\" target=\"_parent\"><img src=\"https://colab.research.google.com/assets/colab-badge.svg\" alt=\"Open In Colab\"/></a>"
      ]
    },
    {
      "cell_type": "code",
      "source": [],
      "metadata": {
        "id": "bU5Ace1S0IHo"
      },
      "execution_count": null,
      "outputs": []
    },
    {
      "cell_type": "markdown",
      "source": [
        "#JOBSHEET 1 DASAR BERKAS GAMBAR (CITRA)"
      ],
      "metadata": {
        "id": "rmE599JJxsDV"
      }
    },
    {
      "cell_type": "markdown",
      "source": [],
      "metadata": {
        "id": "dV6PMCjlx2NC"
      }
    },
    {
      "cell_type": "code",
      "source": [
        "import numpy as np\n",
        "import matplotlib.pyplot as plt\n",
        "from skimage import data"
      ],
      "metadata": {
        "id": "BHuTc5hIxjFn"
      },
      "execution_count": 4,
      "outputs": []
    },
    {
      "cell_type": "code",
      "source": [
        "#contoh gambar dari scikit-image\n",
        "gambar_coins = data.coins()\n",
        "gambar_camera = data.camera()\n",
        "gambar_astronaut = data.astronaut()"
      ],
      "metadata": {
        "id": "TNYnFJBVyMKc"
      },
      "execution_count": 5,
      "outputs": []
    },
    {
      "cell_type": "code",
      "source": [
        "#fungsi untuk menghitung ukuran gambar dalam bit, byte, KB, MB\n",
        "def hitung_ukuran(image):\n",
        "  bit_per_pixel = 8"
      ],
      "metadata": {
        "id": "mqOiGmO22K1-"
      },
      "execution_count": null,
      "outputs": []
    }
  ]
}